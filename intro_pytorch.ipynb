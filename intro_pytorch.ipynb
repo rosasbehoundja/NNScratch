{
 "cells": [
  {
   "cell_type": "code",
   "execution_count": 1,
   "id": "b213096d",
   "metadata": {},
   "outputs": [],
   "source": [
    "import torch\n",
    "import numpy as np"
   ]
  },
  {
   "cell_type": "code",
   "execution_count": null,
   "id": "d13131ae",
   "metadata": {},
   "outputs": [
    {
     "name": "stdout",
     "output_type": "stream",
     "text": [
      ">> initial data \n",
      " [[1, 2], [3, 4]]\n",
      ">> Numpy Array \n",
      " [[1 2]\n",
      " [3 4]]\n",
      ">> Tensor from list \n",
      " tensor([[1, 2],\n",
      "        [3, 4]])\n",
      ">> Tensor from ndarray \n",
      " tensor([[1, 2],\n",
      "        [3, 4]])\n"
     ]
    }
   ],
   "source": [
    "data = [[1, 2], [3, 4]]\n",
    "data_np = np.array(data)\n",
    "data_ts = torch.tensor(data)\n",
    "tensor_from_np = torch.from_numpy(data_np)\n",
    "\n",
    "print(\">>initial data \\n\",data)\n",
    "print(\">>Numpy Array \\n\", data_np)\n",
    "print(\">>Tensor from list \\n\", data_ts)\n",
    "print(\">>Tensor from ndarray \\n\", tensor_from_np)"
   ]
  },
  {
   "cell_type": "code",
   "execution_count": 6,
   "id": "159df359",
   "metadata": {},
   "outputs": [],
   "source": [
    "x = torch.tensor(data)"
   ]
  },
  {
   "cell_type": "code",
   "execution_count": 10,
   "id": "8ab159e2",
   "metadata": {},
   "outputs": [
    {
     "name": "stdout",
     "output_type": "stream",
     "text": [
      ">>Shape: torch.Size([2, 2])\n"
     ]
    }
   ],
   "source": [
    "print(\">>Shape:\", x.shape)"
   ]
  },
  {
   "cell_type": "code",
   "execution_count": 18,
   "id": "f3b18a2a",
   "metadata": {},
   "outputs": [
    {
     "name": "stdout",
     "output_type": "stream",
     "text": [
      ">> Ones-likes: \n",
      " tensor([[1, 1],\n",
      "        [1, 1]])\n"
     ]
    }
   ],
   "source": [
    "print(f\">> Ones-likes: \\n {torch.ones_like(x)}\")"
   ]
  },
  {
   "cell_type": "code",
   "execution_count": 17,
   "id": "2ffbb531",
   "metadata": {},
   "outputs": [
    {
     "name": "stdout",
     "output_type": "stream",
     "text": [
      ">> Random tensor: \n",
      " tensor([[0.6515, 0.1570],\n",
      "        [0.8154, 0.9743]])\n"
     ]
    }
   ],
   "source": [
    "print(f\">> Random tensor: \\n {torch.rand_like(x, dtype=torch.float)}\")"
   ]
  },
  {
   "cell_type": "code",
   "execution_count": 25,
   "id": "9296337c",
   "metadata": {},
   "outputs": [
    {
     "name": "stdout",
     "output_type": "stream",
     "text": [
      ">> Random Tensor: \n",
      " tensor([[[0.0292, 0.2027, 0.3881],\n",
      "         [0.8044, 0.5959, 0.3903]],\n",
      "\n",
      "        [[0.9159, 0.2041, 0.6543],\n",
      "         [0.5172, 0.1977, 0.0570]],\n",
      "\n",
      "        [[0.4318, 0.1023, 0.4879],\n",
      "         [0.5187, 0.3780, 0.7560]]]) \n",
      "\n",
      ">> Ones Tensor: \n",
      " tensor([[[1., 1., 1.],\n",
      "         [1., 1., 1.]],\n",
      "\n",
      "        [[1., 1., 1.],\n",
      "         [1., 1., 1.]],\n",
      "\n",
      "        [[1., 1., 1.],\n",
      "         [1., 1., 1.]]]) \n",
      "\n",
      ">> Zeros Tensor: \n",
      " tensor([[[0., 0., 0.],\n",
      "         [0., 0., 0.]],\n",
      "\n",
      "        [[0., 0., 0.],\n",
      "         [0., 0., 0.]],\n",
      "\n",
      "        [[0., 0., 0.],\n",
      "         [0., 0., 0.]]])\n"
     ]
    }
   ],
   "source": [
    "shape = (3, 2, 3)\n",
    "rand_tensor = torch.rand(shape)\n",
    "ones_tensor = torch.ones(shape)\n",
    "zeros_tensor = torch.zeros(shape)\n",
    "\n",
    "print(f\">> Random Tensor: \\n {rand_tensor} \\n\")\n",
    "print(f\">> Ones Tensor: \\n {ones_tensor} \\n\")\n",
    "print(f\">> Zeros Tensor: \\n {zeros_tensor}\")"
   ]
  },
  {
   "cell_type": "code",
   "execution_count": 34,
   "id": "703a25cb",
   "metadata": {},
   "outputs": [
    {
     "name": "stdout",
     "output_type": "stream",
     "text": [
      ".. x1: \n",
      " tensor([[0.8639, 0.4228, 0.3356],\n",
      "        [0.1308, 0.4472, 0.4575]])\n",
      ".. Size of x1: torch.Size([2, 3])\n",
      ".. x1 elements type: torch.float32\n",
      ".. Device we're are running on: cpu\n"
     ]
    }
   ],
   "source": [
    "x1 = torch.rand(2, 3)\n",
    "print(f\".. x1: \\n {x1}\")\n",
    "print(f\".. Size of x1: {x1.shape}\")\n",
    "print(f\".. x1 elements type: {x1.dtype}\")\n",
    "print(f\".. Device we're are running on: {x1.device}\")"
   ]
  },
  {
   "cell_type": "code",
   "execution_count": 35,
   "id": "a26b2de5",
   "metadata": {},
   "outputs": [
    {
     "name": "stdout",
     "output_type": "stream",
     "text": [
      ".. Device tensor is stored in cpu\n"
     ]
    }
   ],
   "source": [
    "if torch.cuda.is_available():\n",
    "    x = x.to('cuda')\n",
    "    print(f\".. Device tensor is stored in {x.device}\")\n",
    "else: \n",
    "    print(f\".. Device tensor is stored in {x.device}\")"
   ]
  },
  {
   "cell_type": "code",
   "execution_count": 36,
   "id": "685b8832",
   "metadata": {},
   "outputs": [
    {
     "name": "stdout",
     "output_type": "stream",
     "text": [
      "tensor([[1, 0],\n",
      "        [3, 0]])\n"
     ]
    }
   ],
   "source": [
    "x[:, 1] = 0\n",
    "print(x)"
   ]
  },
  {
   "cell_type": "code",
   "execution_count": 38,
   "id": "32fa7c9a",
   "metadata": {},
   "outputs": [
    {
     "data": {
      "text/plain": [
       "tensor([[1, 0, 1, 0, 1, 0],\n",
       "        [3, 0, 3, 0, 3, 0]])"
      ]
     },
     "execution_count": 38,
     "metadata": {},
     "output_type": "execute_result"
    }
   ],
   "source": [
    "torch.concat([x, x, x], dim=1)"
   ]
  },
  {
   "cell_type": "code",
   "execution_count": 39,
   "id": "16e410a8",
   "metadata": {},
   "outputs": [
    {
     "data": {
      "text/plain": [
       "tensor([[1, 0],\n",
       "        [3, 0],\n",
       "        [1, 0],\n",
       "        [3, 0],\n",
       "        [1, 0],\n",
       "        [3, 0]])"
      ]
     },
     "execution_count": 39,
     "metadata": {},
     "output_type": "execute_result"
    }
   ],
   "source": [
    "torch.concat([x, x, x], dim=0)"
   ]
  },
  {
   "cell_type": "code",
   "execution_count": 40,
   "id": "286fc13d",
   "metadata": {},
   "outputs": [
    {
     "data": {
      "text/plain": [
       "tensor([[1, 4],\n",
       "        [9, 4]])"
      ]
     },
     "execution_count": 40,
     "metadata": {},
     "output_type": "execute_result"
    }
   ],
   "source": [
    "x[:, 1] = 2\n",
    "x.mul(x)"
   ]
  },
  {
   "cell_type": "code",
   "execution_count": 41,
   "id": "a8937831",
   "metadata": {},
   "outputs": [
    {
     "data": {
      "text/plain": [
       "tensor([[1, 4],\n",
       "        [9, 4]])"
      ]
     },
     "execution_count": 41,
     "metadata": {},
     "output_type": "execute_result"
    }
   ],
   "source": [
    "x * x"
   ]
  },
  {
   "cell_type": "code",
   "execution_count": 42,
   "id": "73b8d5bd",
   "metadata": {},
   "outputs": [
    {
     "data": {
      "text/plain": [
       "tensor([[ 7,  6],\n",
       "        [ 9, 10]])"
      ]
     },
     "execution_count": 42,
     "metadata": {},
     "output_type": "execute_result"
    }
   ],
   "source": [
    "x.matmul(x)"
   ]
  },
  {
   "cell_type": "code",
   "execution_count": 43,
   "id": "aa32a227",
   "metadata": {},
   "outputs": [
    {
     "data": {
      "text/plain": [
       "tensor([[ 7,  6],\n",
       "        [ 9, 10]])"
      ]
     },
     "execution_count": 43,
     "metadata": {},
     "output_type": "execute_result"
    }
   ],
   "source": [
    "x @ x"
   ]
  },
  {
   "cell_type": "code",
   "execution_count": 44,
   "id": "482442bf",
   "metadata": {},
   "outputs": [],
   "source": [
    "x1 = torch.rand(2, 3)"
   ]
  },
  {
   "cell_type": "code",
   "execution_count": 45,
   "id": "68881adf",
   "metadata": {},
   "outputs": [
    {
     "data": {
      "text/plain": [
       "(torch.Size([2, 2]), torch.Size([2, 3]))"
      ]
     },
     "execution_count": 45,
     "metadata": {},
     "output_type": "execute_result"
    }
   ],
   "source": [
    "x.shape, x1.shape"
   ]
  },
  {
   "cell_type": "code",
   "execution_count": 47,
   "id": "a43cd6db",
   "metadata": {},
   "outputs": [
    {
     "data": {
      "text/plain": [
       "(torch.int64, torch.float32)"
      ]
     },
     "execution_count": 47,
     "metadata": {},
     "output_type": "execute_result"
    }
   ],
   "source": [
    "x.dtype, x1.dtype"
   ]
  },
  {
   "cell_type": "code",
   "execution_count": 50,
   "id": "34ea95b1",
   "metadata": {},
   "outputs": [],
   "source": [
    "x = x.to(torch.float32)"
   ]
  },
  {
   "cell_type": "code",
   "execution_count": 52,
   "id": "22d78a02",
   "metadata": {},
   "outputs": [
    {
     "data": {
      "text/plain": [
       "tensor([[1.9394, 0.5546, 2.3000],\n",
       "        [2.6235, 1.2710, 3.9988]])"
      ]
     },
     "execution_count": 52,
     "metadata": {},
     "output_type": "execute_result"
    }
   ],
   "source": [
    "x.matmul(x1)"
   ]
  },
  {
   "cell_type": "code",
   "execution_count": 53,
   "id": "a61ecae9",
   "metadata": {},
   "outputs": [
    {
     "data": {
      "text/plain": [
       "tensor([[1.9394, 0.5546, 2.3000],\n",
       "        [2.6235, 1.2710, 3.9988]])"
      ]
     },
     "execution_count": 53,
     "metadata": {},
     "output_type": "execute_result"
    }
   ],
   "source": [
    "x @ x1"
   ]
  },
  {
   "cell_type": "code",
   "execution_count": 55,
   "id": "f8b296f7",
   "metadata": {},
   "outputs": [],
   "source": [
    "x2 = torch.rand(3, 3)"
   ]
  },
  {
   "cell_type": "code",
   "execution_count": 57,
   "id": "158f8ba2",
   "metadata": {},
   "outputs": [
    {
     "data": {
      "text/plain": [
       "(tensor([[1.1904, 1.2040, 0.5635],\n",
       "         [1.0717, 0.9457, 0.4888]]),\n",
       " tensor([[1.1904, 1.2040, 0.5635],\n",
       "         [1.0717, 0.9457, 0.4888]]))"
      ]
     },
     "execution_count": 57,
     "metadata": {},
     "output_type": "execute_result"
    }
   ],
   "source": [
    "x1.matmul(x2), x1 @ x2"
   ]
  },
  {
   "cell_type": "code",
   "execution_count": 59,
   "id": "02f91aca",
   "metadata": {},
   "outputs": [
    {
     "data": {
      "text/plain": [
       "(tensor([[0.4794, 0.5576],\n",
       "         [1.1895, 1.1603],\n",
       "         [0.8559, 1.0258]]),\n",
       " tensor([[0.4794, 0.5576],\n",
       "         [1.1895, 1.1603],\n",
       "         [0.8559, 1.0258]]))"
      ]
     },
     "execution_count": 59,
     "metadata": {},
     "output_type": "execute_result"
    }
   ],
   "source": [
    "x2.matmul(x1.T), x2 @ x1.T"
   ]
  },
  {
   "cell_type": "code",
   "execution_count": 63,
   "id": "5d5fdcb4",
   "metadata": {},
   "outputs": [
    {
     "data": {
      "text/plain": [
       "tensor([[10., 11.],\n",
       "        [12., 11.]])"
      ]
     },
     "execution_count": 63,
     "metadata": {},
     "output_type": "execute_result"
    }
   ],
   "source": [
    "x"
   ]
  },
  {
   "cell_type": "code",
   "execution_count": 65,
   "id": "00e2c4b3",
   "metadata": {},
   "outputs": [
    {
     "data": {
      "text/plain": [
       "tensor([[0., 1.],\n",
       "        [2., 1.]])"
      ]
     },
     "execution_count": 65,
     "metadata": {},
     "output_type": "execute_result"
    }
   ],
   "source": [
    "x.add_(-5)"
   ]
  },
  {
   "cell_type": "code",
   "execution_count": 66,
   "id": "e57af5ef",
   "metadata": {},
   "outputs": [
    {
     "data": {
      "text/plain": [
       "(tensor([[0., 1.],\n",
       "         [2., 1.]]),\n",
       " array([[0., 1.],\n",
       "        [2., 1.]], dtype=float32))"
      ]
     },
     "execution_count": 66,
     "metadata": {},
     "output_type": "execute_result"
    }
   ],
   "source": [
    "t = x\n",
    "n = t.numpy()\n",
    "\n",
    "t, n"
   ]
  },
  {
   "cell_type": "code",
   "execution_count": 67,
   "id": "8e0b1f99",
   "metadata": {},
   "outputs": [
    {
     "data": {
      "text/plain": [
       "(tensor([[2., 3.],\n",
       "         [4., 3.]]),\n",
       " array([[2., 3.],\n",
       "        [4., 3.]], dtype=float32))"
      ]
     },
     "execution_count": 67,
     "metadata": {},
     "output_type": "execute_result"
    }
   ],
   "source": [
    "t.add_(2)\n",
    "\n",
    "t, n"
   ]
  },
  {
   "cell_type": "code",
   "execution_count": 69,
   "id": "719330a3",
   "metadata": {},
   "outputs": [
    {
     "data": {
      "text/plain": [
       "(array([1., 1., 1., 1., 1.]),\n",
       " tensor([1., 1., 1., 1., 1.], dtype=torch.float64))"
      ]
     },
     "execution_count": 69,
     "metadata": {},
     "output_type": "execute_result"
    }
   ],
   "source": [
    "n = np.ones(5)\n",
    "t = torch.from_numpy(n)\n",
    "\n",
    "n, t"
   ]
  },
  {
   "cell_type": "code",
   "execution_count": 70,
   "id": "9878b0e4",
   "metadata": {},
   "outputs": [
    {
     "data": {
      "text/plain": [
       "(array([3., 3., 3., 3., 3.]),\n",
       " tensor([3., 3., 3., 3., 3.], dtype=torch.float64))"
      ]
     },
     "execution_count": 70,
     "metadata": {},
     "output_type": "execute_result"
    }
   ],
   "source": [
    "np.add(n, 2, out=n)\n",
    "\n",
    "n, t"
   ]
  },
  {
   "cell_type": "code",
   "execution_count": 71,
   "id": "3e4bf912",
   "metadata": {},
   "outputs": [
    {
     "data": {
      "text/plain": [
       "2"
      ]
     },
     "execution_count": 71,
     "metadata": {},
     "output_type": "execute_result"
    }
   ],
   "source": [
    "x.ndim"
   ]
  },
  {
   "cell_type": "code",
   "execution_count": 74,
   "id": "2a7751b2",
   "metadata": {},
   "outputs": [
    {
     "data": {
      "text/plain": [
       "3"
      ]
     },
     "execution_count": 74,
     "metadata": {},
     "output_type": "execute_result"
    }
   ],
   "source": [
    "torch.rand((2, 4, 5)).ndim"
   ]
  },
  {
   "cell_type": "code",
   "execution_count": null,
   "id": "d2a262bf",
   "metadata": {},
   "outputs": [],
   "source": []
  }
 ],
 "metadata": {
  "kernelspec": {
   "display_name": "nnenv",
   "language": "python",
   "name": "python3"
  },
  "language_info": {
   "codemirror_mode": {
    "name": "ipython",
    "version": 3
   },
   "file_extension": ".py",
   "mimetype": "text/x-python",
   "name": "python",
   "nbconvert_exporter": "python",
   "pygments_lexer": "ipython3",
   "version": "3.12.3"
  }
 },
 "nbformat": 4,
 "nbformat_minor": 5
}
